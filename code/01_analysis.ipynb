{
 "cells": [
  {
   "cell_type": "code",
   "execution_count": 4,
   "id": "6d2d2206-158c-4cdc-a41e-5053277d7bd4",
   "metadata": {},
   "outputs": [],
   "source": [
    "from simpletransformers.classification import ClassificationModel\n",
    "import pandas as pd\n",
    "import numpy as np\n",
    "\n",
    "from scipy.special import softmax\n",
    "import matplotlib.pyplot as plt\n",
    "import seaborn as sns\n",
    "from sklearn.metrics import f1_score, roc_auc_score\n",
    "from sklearn.model_selection import train_test_split\n",
    "import gdown\n",
    "import zipfile\n",
    "import os"
   ]
  },
  {
   "attachments": {},
   "cell_type": "markdown",
   "id": "65ffa610-b149-4cb3-814c-34ead519211e",
   "metadata": {},
   "source": [
    "# Load Model"
   ]
  },
  {
   "cell_type": "code",
   "execution_count": 5,
   "id": "5b1505fe",
   "metadata": {},
   "outputs": [],
   "source": [
    "def download_model(extract_path = \"models/\"):\n",
    "    file_id = '1WYkuOxW9wg442Gbsw93vh3Vyh9qoWb4r'\n",
    "    destination = 'model.zip'\n",
    "    url = f'https://drive.google.com/uc?id={file_id}'\n",
    "\n",
    "    gdown.download(url, destination, quiet=False)\n",
    "    with zipfile.ZipFile(destination, 'r') as zip_ref:\n",
    "        zip_ref.extractall(extract_path)\n",
    "\n",
    "    extracted_files = os.listdir(extract_path)\n",
    "    print(extracted_files)\n",
    "    os.remove(destination)\n",
    "    return extract_path"
   ]
  },
  {
   "cell_type": "code",
   "execution_count": 12,
   "id": "3008c18a",
   "metadata": {},
   "outputs": [
    {
     "data": {
      "text/plain": [
       "'./models/model_zip'"
      ]
     },
     "execution_count": 12,
     "metadata": {},
     "output_type": "execute_result"
    }
   ],
   "source": [
    "save_path"
   ]
  },
  {
   "cell_type": "code",
   "execution_count": 13,
   "id": "8ff979b9",
   "metadata": {},
   "outputs": [],
   "source": []
  },
  {
   "cell_type": "code",
   "execution_count": 11,
   "id": "a65be0ec-085f-4c8d-a2e7-531501ac4cce",
   "metadata": {},
   "outputs": [
    {
     "name": "stderr",
     "output_type": "stream",
     "text": [
      "Downloading...\n",
      "From (original): https://drive.google.com/uc?id=1WYkuOxW9wg442Gbsw93vh3Vyh9qoWb4r\n",
      "From (redirected): https://drive.google.com/uc?id=1WYkuOxW9wg442Gbsw93vh3Vyh9qoWb4r&confirm=t&uuid=df86cee9-8cde-415d-8243-06b4aeb24809\n",
      "To: /Users/metissotangkur/Desktop/advanced_computing/nlp/coursework/dontpatronizeme/code/model.zip\n",
      "100%|██████████| 247M/247M [00:07<00:00, 32.7MB/s] \n"
     ]
    },
    {
     "name": "stdout",
     "output_type": "stream",
     "text": [
      "['model_zip', '__MACOSX']\n"
     ]
    }
   ],
   "source": [
    "save_path = download_model()\n",
    "save_path = os.path.join(\".\", save_path, \"model_zip\")\n",
    "\n",
    "best_model = ClassificationModel(\n",
    "    \"distilbert\",\n",
    "    save_path,\n",
    "    use_cuda=False\n",
    ")"
   ]
  },
  {
   "cell_type": "code",
   "execution_count": 7,
   "id": "335ac167-f855-4559-896c-1934317696c2",
   "metadata": {},
   "outputs": [
    {
     "name": "stdout",
     "output_type": "stream",
     "text": [
      "train size: 6700, target_rate: target_flag    0.094776\n",
      "dtype: float64\n",
      "val size: 1675, target_rate: target_flag    0.094925\n",
      "dtype: float64\n"
     ]
    }
   ],
   "source": [
    "file_id = \"1XOafk3wcP2RcTu1MHXoR_IJBIZseqTn8\"\n",
    "url = f\"https://drive.google.com/uc?id={file_id}\"\n",
    "\n",
    "train_model_df = pd.read_csv(url, sep=\"\\t\")\n",
    "train_model_df = train_model_df.loc[:, ~train_model_df.columns.str.contains('^Unnamed')]\n",
    "train_df, val_df, _, _ = train_test_split(\n",
    "    train_model_df,\n",
    "    train_model_df[\"target_flag\"],\n",
    "    test_size=0.2,\n",
    "    random_state=42,\n",
    "    stratify=train_model_df[\"target_flag\"]\n",
    ")\n",
    "\n",
    "print(f\"train size: {len(train_df)}, target_rate: {train_df.agg({'target_flag': 'mean'})}\")\n",
    "print(f\"val size: {len(val_df)}, target_rate: {val_df.agg({'target_flag': 'mean'})}\")"
   ]
  },
  {
   "cell_type": "code",
   "execution_count": 4,
   "id": "c3ac8882-489f-4bae-9396-931cfcda7154",
   "metadata": {},
   "outputs": [
    {
     "data": {
      "application/vnd.jupyter.widget-view+json": {
       "model_id": "92e9a03d9a594475af3cfbb1ed2e99f2",
       "version_major": 2,
       "version_minor": 0
      },
      "text/plain": [
       "  0%|          | 0/3 [00:00<?, ?it/s]"
      ]
     },
     "metadata": {},
     "output_type": "display_data"
    },
    {
     "name": "stderr",
     "output_type": "stream",
     "text": [
      "huggingface/tokenizers: The current process just got forked, after parallelism has already been used. Disabling parallelism to avoid deadlocks...\n",
      "To disable this warning, you can either:\n",
      "\t- Avoid using `tokenizers` before the fork if possible\n",
      "\t- Explicitly set the environment variable TOKENIZERS_PARALLELISM=(true | false)\n",
      "huggingface/tokenizers: The current process just got forked, after parallelism has already been used. Disabling parallelism to avoid deadlocks...\n",
      "To disable this warning, you can either:\n",
      "\t- Avoid using `tokenizers` before the fork if possible\n",
      "\t- Explicitly set the environment variable TOKENIZERS_PARALLELISM=(true | false)\n",
      "huggingface/tokenizers: The current process just got forked, after parallelism has already been used. Disabling parallelism to avoid deadlocks...\n",
      "To disable this warning, you can either:\n",
      "\t- Avoid using `tokenizers` before the fork if possible\n",
      "\t- Explicitly set the environment variable TOKENIZERS_PARALLELISM=(true | false)\n",
      "huggingface/tokenizers: The current process just got forked, after parallelism has already been used. Disabling parallelism to avoid deadlocks...\n",
      "To disable this warning, you can either:\n",
      "\t- Avoid using `tokenizers` before the fork if possible\n",
      "\t- Explicitly set the environment variable TOKENIZERS_PARALLELISM=(true | false)\n"
     ]
    },
    {
     "data": {
      "application/vnd.jupyter.widget-view+json": {
       "model_id": "5879ea2f5caf479e86d3046c0e23d632",
       "version_major": 2,
       "version_minor": 0
      },
      "text/plain": [
       "  0%|          | 0/17 [00:00<?, ?it/s]"
      ]
     },
     "metadata": {},
     "output_type": "display_data"
    }
   ],
   "source": [
    "cols = [\"text\", \"target_flag\"]\n",
    "val_pred, val_raw_outputs = best_model.predict(val_df[\"text\"].tolist())"
   ]
  },
  {
   "attachments": {},
   "cell_type": "markdown",
   "id": "a2022bdd-3f8f-4c4d-b83e-662a477a2597",
   "metadata": {},
   "source": [
    "# Load Data"
   ]
  },
  {
   "cell_type": "code",
   "execution_count": 10,
   "id": "226456d4-0944-4146-ace6-0af7122d1d98",
   "metadata": {},
   "outputs": [
    {
     "data": {
      "text/html": [
       "<div>\n",
       "<style scoped>\n",
       "    .dataframe tbody tr th:only-of-type {\n",
       "        vertical-align: middle;\n",
       "    }\n",
       "\n",
       "    .dataframe tbody tr th {\n",
       "        vertical-align: top;\n",
       "    }\n",
       "\n",
       "    .dataframe thead th {\n",
       "        text-align: right;\n",
       "    }\n",
       "</style>\n",
       "<table border=\"1\" class=\"dataframe\">\n",
       "  <thead>\n",
       "    <tr style=\"text-align: right;\">\n",
       "      <th></th>\n",
       "      <th>Unnamed: 0</th>\n",
       "      <th>par_id</th>\n",
       "      <th>art_id</th>\n",
       "      <th>keyword</th>\n",
       "      <th>country_code</th>\n",
       "      <th>text</th>\n",
       "      <th>label</th>\n",
       "      <th>target_flag</th>\n",
       "      <th>weights</th>\n",
       "    </tr>\n",
       "  </thead>\n",
       "  <tbody>\n",
       "    <tr>\n",
       "      <th>0</th>\n",
       "      <td>0</td>\n",
       "      <td>107</td>\n",
       "      <td>@@16900972</td>\n",
       "      <td>homeless</td>\n",
       "      <td>ke</td>\n",
       "      <td>His present \" chambers \" may be quite humble ,...</td>\n",
       "      <td>3</td>\n",
       "      <td>1.0</td>\n",
       "      <td>1</td>\n",
       "    </tr>\n",
       "    <tr>\n",
       "      <th>1</th>\n",
       "      <td>1</td>\n",
       "      <td>149</td>\n",
       "      <td>@@1387882</td>\n",
       "      <td>disabled</td>\n",
       "      <td>us</td>\n",
       "      <td>Krueger recently harnessed that creativity to ...</td>\n",
       "      <td>2</td>\n",
       "      <td>1.0</td>\n",
       "      <td>1</td>\n",
       "    </tr>\n",
       "    <tr>\n",
       "      <th>2</th>\n",
       "      <td>2</td>\n",
       "      <td>151</td>\n",
       "      <td>@@19974860</td>\n",
       "      <td>poor-families</td>\n",
       "      <td>in</td>\n",
       "      <td>10:41am - Parents of children who died must ge...</td>\n",
       "      <td>3</td>\n",
       "      <td>1.0</td>\n",
       "      <td>1</td>\n",
       "    </tr>\n",
       "    <tr>\n",
       "      <th>3</th>\n",
       "      <td>3</td>\n",
       "      <td>154</td>\n",
       "      <td>@@20663936</td>\n",
       "      <td>disabled</td>\n",
       "      <td>ng</td>\n",
       "      <td>When some people feel causing problem for some...</td>\n",
       "      <td>4</td>\n",
       "      <td>1.0</td>\n",
       "      <td>1</td>\n",
       "    </tr>\n",
       "    <tr>\n",
       "      <th>4</th>\n",
       "      <td>4</td>\n",
       "      <td>157</td>\n",
       "      <td>@@21712008</td>\n",
       "      <td>poor-families</td>\n",
       "      <td>ca</td>\n",
       "      <td>We are alarmed to learn of your recently circu...</td>\n",
       "      <td>4</td>\n",
       "      <td>1.0</td>\n",
       "      <td>1</td>\n",
       "    </tr>\n",
       "  </tbody>\n",
       "</table>\n",
       "</div>"
      ],
      "text/plain": [
       "   Unnamed: 0  par_id      art_id        keyword country_code  \\\n",
       "0           0     107  @@16900972       homeless           ke   \n",
       "1           1     149   @@1387882       disabled           us   \n",
       "2           2     151  @@19974860  poor-families           in   \n",
       "3           3     154  @@20663936       disabled           ng   \n",
       "4           4     157  @@21712008  poor-families           ca   \n",
       "\n",
       "                                                text  label  target_flag  \\\n",
       "0  His present \" chambers \" may be quite humble ,...      3          1.0   \n",
       "1  Krueger recently harnessed that creativity to ...      2          1.0   \n",
       "2  10:41am - Parents of children who died must ge...      3          1.0   \n",
       "3  When some people feel causing problem for some...      4          1.0   \n",
       "4  We are alarmed to learn of your recently circu...      4          1.0   \n",
       "\n",
       "   weights  \n",
       "0        1  \n",
       "1        1  \n",
       "2        1  \n",
       "3        1  \n",
       "4        1  "
      ]
     },
     "execution_count": 10,
     "metadata": {},
     "output_type": "execute_result"
    }
   ],
   "source": [
    "dev_df = pd.read_csv(\"../data/dev_df_2.csv\", sep=\"\\t\")\n",
    "dev_df.head()"
   ]
  },
  {
   "cell_type": "code",
   "execution_count": 7,
   "id": "9eaf390a-de41-42ad-b106-4d31d4924001",
   "metadata": {},
   "outputs": [],
   "source": [
    "dev_df.loc[dev_df[\"text\"].isna(), \"text\"] = \"\""
   ]
  },
  {
   "cell_type": "code",
   "execution_count": 8,
   "id": "1ce3169e-cdc8-44d8-bd3d-1ea4b800f855",
   "metadata": {},
   "outputs": [
    {
     "data": {
      "text/html": [
       "<div>\n",
       "<style scoped>\n",
       "    .dataframe tbody tr th:only-of-type {\n",
       "        vertical-align: middle;\n",
       "    }\n",
       "\n",
       "    .dataframe tbody tr th {\n",
       "        vertical-align: top;\n",
       "    }\n",
       "\n",
       "    .dataframe thead th {\n",
       "        text-align: right;\n",
       "    }\n",
       "</style>\n",
       "<table border=\"1\" class=\"dataframe\">\n",
       "  <thead>\n",
       "    <tr style=\"text-align: right;\">\n",
       "      <th></th>\n",
       "      <th>weights</th>\n",
       "    </tr>\n",
       "    <tr>\n",
       "      <th>label</th>\n",
       "      <th></th>\n",
       "    </tr>\n",
       "  </thead>\n",
       "  <tbody>\n",
       "    <tr>\n",
       "      <th>0</th>\n",
       "      <td>1704</td>\n",
       "    </tr>\n",
       "    <tr>\n",
       "      <th>1</th>\n",
       "      <td>191</td>\n",
       "    </tr>\n",
       "    <tr>\n",
       "      <th>2</th>\n",
       "      <td>18</td>\n",
       "    </tr>\n",
       "    <tr>\n",
       "      <th>3</th>\n",
       "      <td>89</td>\n",
       "    </tr>\n",
       "    <tr>\n",
       "      <th>4</th>\n",
       "      <td>92</td>\n",
       "    </tr>\n",
       "  </tbody>\n",
       "</table>\n",
       "</div>"
      ],
      "text/plain": [
       "       weights\n",
       "label         \n",
       "0         1704\n",
       "1          191\n",
       "2           18\n",
       "3           89\n",
       "4           92"
      ]
     },
     "execution_count": 8,
     "metadata": {},
     "output_type": "execute_result"
    }
   ],
   "source": [
    "dev_df.groupby(\"label\").agg({\"weights\":\"sum\"})"
   ]
  },
  {
   "cell_type": "code",
   "execution_count": 9,
   "id": "bfb400d4-0347-49d5-bdcd-047c026b2396",
   "metadata": {},
   "outputs": [
    {
     "data": {
      "application/vnd.jupyter.widget-view+json": {
       "model_id": "c580fff4ec1242ffa0cefaefdc1e76db",
       "version_major": 2,
       "version_minor": 0
      },
      "text/plain": [
       "  0%|          | 0/4 [00:00<?, ?it/s]"
      ]
     },
     "metadata": {},
     "output_type": "display_data"
    },
    {
     "name": "stderr",
     "output_type": "stream",
     "text": [
      "huggingface/tokenizers: The current process just got forked, after parallelism has already been used. Disabling parallelism to avoid deadlocks...\n",
      "To disable this warning, you can either:\n",
      "\t- Avoid using `tokenizers` before the fork if possible\n",
      "\t- Explicitly set the environment variable TOKENIZERS_PARALLELISM=(true | false)\n",
      "huggingface/tokenizers: The current process just got forked, after parallelism has already been used. Disabling parallelism to avoid deadlocks...\n",
      "To disable this warning, you can either:\n",
      "\t- Avoid using `tokenizers` before the fork if possible\n",
      "\t- Explicitly set the environment variable TOKENIZERS_PARALLELISM=(true | false)\n",
      "huggingface/tokenizers: The current process just got forked, after parallelism has already been used. Disabling parallelism to avoid deadlocks...\n",
      "To disable this warning, you can either:\n",
      "\t- Avoid using `tokenizers` before the fork if possible\n",
      "\t- Explicitly set the environment variable TOKENIZERS_PARALLELISM=(true | false)\n",
      "huggingface/tokenizers: The current process just got forked, after parallelism has already been used. Disabling parallelism to avoid deadlocks...\n",
      "To disable this warning, you can either:\n",
      "\t- Avoid using `tokenizers` before the fork if possible\n",
      "\t- Explicitly set the environment variable TOKENIZERS_PARALLELISM=(true | false)\n",
      "huggingface/tokenizers: The current process just got forked, after parallelism has already been used. Disabling parallelism to avoid deadlocks...\n",
      "To disable this warning, you can either:\n",
      "\t- Avoid using `tokenizers` before the fork if possible\n",
      "\t- Explicitly set the environment variable TOKENIZERS_PARALLELISM=(true | false)\n"
     ]
    },
    {
     "data": {
      "application/vnd.jupyter.widget-view+json": {
       "model_id": "189a0e5352e447e2a26e60066fad819b",
       "version_major": 2,
       "version_minor": 0
      },
      "text/plain": [
       "  0%|          | 0/21 [00:00<?, ?it/s]"
      ]
     },
     "metadata": {},
     "output_type": "display_data"
    }
   ],
   "source": [
    "dev_text_list = dev_df['text'].tolist()\n",
    "\n",
    "dev_pred, dev_raw_outputs = best_model.predict(dev_text_list)"
   ]
  },
  {
   "cell_type": "code",
   "execution_count": 10,
   "id": "0bfcba95-2ce4-4f37-a2ce-b836a4e32b3c",
   "metadata": {},
   "outputs": [],
   "source": [
    "prob = softmax(dev_raw_outputs, axis=1)[:, 1]\n",
    "dev_df[\"prob\"] = prob"
   ]
  },
  {
   "attachments": {},
   "cell_type": "markdown",
   "id": "71f17a9a-ef7f-49cd-8b16-215f5585d593",
   "metadata": {},
   "source": [
    "# Q1 \n",
    "To what extent is the model better at predicting examples with a higher level of patronising content? Justify your answer"
   ]
  },
  {
   "cell_type": "code",
   "execution_count": 11,
   "id": "38b25a90-5e66-4e65-9316-3e11e296506f",
   "metadata": {},
   "outputs": [],
   "source": [
    "dev_df['label'] = dev_df['label'].astype('category')"
   ]
  },
  {
   "cell_type": "code",
   "execution_count": 12,
   "id": "ef4925b6-808f-4bd9-ac76-456c8904020e",
   "metadata": {},
   "outputs": [],
   "source": [
    "(\n",
    "    dev_df\n",
    "    .groupby(\"label\")\n",
    "    .agg(\n",
    "        count = pd.NamedAgg(column=\"weights\", aggfunc=\"sum\"),\n",
    "        prob_mean = pd.NamedAgg(column=\"prob\", aggfunc=\"mean\"),\n",
    "        prob_std = pd.NamedAgg(column=\"prob\", aggfunc=\"std\"),\n",
    "    )\n",
    ").to_csv(\"lvl_mean_std.csv\")"
   ]
  },
  {
   "cell_type": "code",
   "execution_count": 13,
   "id": "1f6e02d8-2f15-4759-9c1c-88d99b73090b",
   "metadata": {},
   "outputs": [
    {
     "data": {
      "image/png": "[encoded data removed]",
      "text/plain": [
       "<Figure size 1000x600 with 1 Axes>"
      ]
     },
     "metadata": {},
     "output_type": "display_data"
    }
   ],
   "source": [
    "fig, ax = plt.subplots(figsize=(10, 6))  \n",
    "\n",
    "for label in range(5):\n",
    "    prob_list = dev_df.loc[dev_df[\"label\"] == label, \"prob\"]\n",
    "    prob_arr = np.array(prob_list)\n",
    "    mean = prob_arr.mean()\n",
    "    std = prob_arr.std()\n",
    "\n",
    "    sns.kdeplot(data=prob_list, common_norm=False, fill=True, alpha=0.5, ax=ax, label=f\"Level: {label} with mean: {mean:.3f} and std: {std:.3f}\")\n",
    "\n",
    "ax.set_title('KDE of Model Probabilities by Class')\n",
    "ax.set_xlabel('Prob from the model')\n",
    "ax.set_ylabel('Density')\n",
    "ax.legend()\n",
    "\n",
    "plt.show()"
   ]
  },
  {
   "attachments": {},
   "cell_type": "markdown",
   "id": "15ea4274-baad-440c-b7a7-901b14096725",
   "metadata": {},
   "source": [
    "# Q2"
   ]
  },
  {
   "cell_type": "code",
   "execution_count": 14,
   "id": "ed3d6c05-653e-4664-bbc3-5fb45c469307",
   "metadata": {},
   "outputs": [
    {
     "data": {
      "text/html": [
       "<div>\n",
       "<style scoped>\n",
       "    .dataframe tbody tr th:only-of-type {\n",
       "        vertical-align: middle;\n",
       "    }\n",
       "\n",
       "    .dataframe tbody tr th {\n",
       "        vertical-align: top;\n",
       "    }\n",
       "\n",
       "    .dataframe thead th {\n",
       "        text-align: right;\n",
       "    }\n",
       "</style>\n",
       "<table border=\"1\" class=\"dataframe\">\n",
       "  <thead>\n",
       "    <tr style=\"text-align: right;\">\n",
       "      <th></th>\n",
       "      <th>Unnamed: 0</th>\n",
       "      <th>par_id</th>\n",
       "      <th>art_id</th>\n",
       "      <th>keyword</th>\n",
       "      <th>country_code</th>\n",
       "      <th>text</th>\n",
       "      <th>label</th>\n",
       "      <th>target_flag</th>\n",
       "      <th>weights</th>\n",
       "      <th>prob</th>\n",
       "      <th>text_length</th>\n",
       "      <th>text_length_bin</th>\n",
       "    </tr>\n",
       "  </thead>\n",
       "  <tbody>\n",
       "    <tr>\n",
       "      <th>0</th>\n",
       "      <td>0</td>\n",
       "      <td>107</td>\n",
       "      <td>@@16900972</td>\n",
       "      <td>homeless</td>\n",
       "      <td>ke</td>\n",
       "      <td>His present \" chambers \" may be quite humble ,...</td>\n",
       "      <td>3</td>\n",
       "      <td>1.0</td>\n",
       "      <td>1</td>\n",
       "      <td>0.047235</td>\n",
       "      <td>394</td>\n",
       "      <td>(352.0, 443.7]</td>\n",
       "    </tr>\n",
       "    <tr>\n",
       "      <th>1</th>\n",
       "      <td>1</td>\n",
       "      <td>149</td>\n",
       "      <td>@@1387882</td>\n",
       "      <td>disabled</td>\n",
       "      <td>us</td>\n",
       "      <td>Krueger recently harnessed that creativity to ...</td>\n",
       "      <td>2</td>\n",
       "      <td>1.0</td>\n",
       "      <td>1</td>\n",
       "      <td>0.071496</td>\n",
       "      <td>296</td>\n",
       "      <td>(295.0, 352.0]</td>\n",
       "    </tr>\n",
       "    <tr>\n",
       "      <th>2</th>\n",
       "      <td>2</td>\n",
       "      <td>151</td>\n",
       "      <td>@@19974860</td>\n",
       "      <td>poor-families</td>\n",
       "      <td>in</td>\n",
       "      <td>10:41am - Parents of children who died must ge...</td>\n",
       "      <td>3</td>\n",
       "      <td>1.0</td>\n",
       "      <td>1</td>\n",
       "      <td>0.796367</td>\n",
       "      <td>138</td>\n",
       "      <td>(116.0, 153.0]</td>\n",
       "    </tr>\n",
       "    <tr>\n",
       "      <th>3</th>\n",
       "      <td>3</td>\n",
       "      <td>154</td>\n",
       "      <td>@@20663936</td>\n",
       "      <td>disabled</td>\n",
       "      <td>ng</td>\n",
       "      <td>When some people feel causing problem for some...</td>\n",
       "      <td>4</td>\n",
       "      <td>1.0</td>\n",
       "      <td>1</td>\n",
       "      <td>0.747670</td>\n",
       "      <td>496</td>\n",
       "      <td>(443.7, inf]</td>\n",
       "    </tr>\n",
       "    <tr>\n",
       "      <th>4</th>\n",
       "      <td>4</td>\n",
       "      <td>157</td>\n",
       "      <td>@@21712008</td>\n",
       "      <td>poor-families</td>\n",
       "      <td>ca</td>\n",
       "      <td>We are alarmed to learn of your recently circu...</td>\n",
       "      <td>4</td>\n",
       "      <td>1.0</td>\n",
       "      <td>1</td>\n",
       "      <td>0.049807</td>\n",
       "      <td>601</td>\n",
       "      <td>(443.7, inf]</td>\n",
       "    </tr>\n",
       "  </tbody>\n",
       "</table>\n",
       "</div>"
      ],
      "text/plain": [
       "   Unnamed: 0  par_id      art_id        keyword country_code  \\\n",
       "0           0     107  @@16900972       homeless           ke   \n",
       "1           1     149   @@1387882       disabled           us   \n",
       "2           2     151  @@19974860  poor-families           in   \n",
       "3           3     154  @@20663936       disabled           ng   \n",
       "4           4     157  @@21712008  poor-families           ca   \n",
       "\n",
       "                                                text label  target_flag  \\\n",
       "0  His present \" chambers \" may be quite humble ,...     3          1.0   \n",
       "1  Krueger recently harnessed that creativity to ...     2          1.0   \n",
       "2  10:41am - Parents of children who died must ge...     3          1.0   \n",
       "3  When some people feel causing problem for some...     4          1.0   \n",
       "4  We are alarmed to learn of your recently circu...     4          1.0   \n",
       "\n",
       "   weights      prob  text_length text_length_bin  \n",
       "0        1  0.047235          394  (352.0, 443.7]  \n",
       "1        1  0.071496          296  (295.0, 352.0]  \n",
       "2        1  0.796367          138  (116.0, 153.0]  \n",
       "3        1  0.747670          496    (443.7, inf]  \n",
       "4        1  0.049807          601    (443.7, inf]  "
      ]
     },
     "execution_count": 14,
     "metadata": {},
     "output_type": "execute_result"
    }
   ],
   "source": [
    "dev_df[\"text_length\"] = dev_df[\"text\"].str.len()\n",
    "_, q_bin = pd.qcut(dev_df[\"text_length\"], q=10, retbins=True)\n",
    "q_bin[0] = -np.inf\n",
    "q_bin[-1] = np.inf\n",
    "\n",
    "dev_df.loc[:, \"text_length_bin\"] = pd.cut(dev_df[\"text_length\"], q_bin)\n",
    "dev_df.head()"
   ]
  },
  {
   "cell_type": "code",
   "execution_count": 17,
   "id": "b343f413",
   "metadata": {},
   "outputs": [
    {
     "data": {
      "text/html": [
       "<div>\n",
       "<style scoped>\n",
       "    .dataframe tbody tr th:only-of-type {\n",
       "        vertical-align: middle;\n",
       "    }\n",
       "\n",
       "    .dataframe tbody tr th {\n",
       "        vertical-align: top;\n",
       "    }\n",
       "\n",
       "    .dataframe thead th {\n",
       "        text-align: right;\n",
       "    }\n",
       "</style>\n",
       "<table border=\"1\" class=\"dataframe\">\n",
       "  <thead>\n",
       "    <tr style=\"text-align: right;\">\n",
       "      <th></th>\n",
       "      <th>count</th>\n",
       "      <th>prob_mean</th>\n",
       "      <th>prob_std</th>\n",
       "      <th>f1</th>\n",
       "      <th>auc</th>\n",
       "    </tr>\n",
       "    <tr>\n",
       "      <th>text_length_bin</th>\n",
       "      <th></th>\n",
       "      <th></th>\n",
       "      <th></th>\n",
       "      <th></th>\n",
       "      <th></th>\n",
       "    </tr>\n",
       "  </thead>\n",
       "  <tbody>\n",
       "    <tr>\n",
       "      <th>(-inf, 116.0]</th>\n",
       "      <td>211.0</td>\n",
       "      <td>0.130000</td>\n",
       "      <td>0.253106</td>\n",
       "      <td>0.500000</td>\n",
       "      <td>0.900544</td>\n",
       "    </tr>\n",
       "    <tr>\n",
       "      <th>(116.0, 153.0]</th>\n",
       "      <td>217.0</td>\n",
       "      <td>0.118812</td>\n",
       "      <td>0.255341</td>\n",
       "      <td>0.558140</td>\n",
       "      <td>0.969637</td>\n",
       "    </tr>\n",
       "    <tr>\n",
       "      <th>(153.0, 178.0]</th>\n",
       "      <td>206.0</td>\n",
       "      <td>0.119119</td>\n",
       "      <td>0.251571</td>\n",
       "      <td>0.600000</td>\n",
       "      <td>0.956656</td>\n",
       "    </tr>\n",
       "    <tr>\n",
       "      <th>(178.0, 205.0]</th>\n",
       "      <td>206.0</td>\n",
       "      <td>0.114248</td>\n",
       "      <td>0.239579</td>\n",
       "      <td>0.536585</td>\n",
       "      <td>0.877992</td>\n",
       "    </tr>\n",
       "    <tr>\n",
       "      <th>(205.0, 228.5]</th>\n",
       "      <td>207.0</td>\n",
       "      <td>0.101888</td>\n",
       "      <td>0.235287</td>\n",
       "      <td>0.611111</td>\n",
       "      <td>0.821576</td>\n",
       "    </tr>\n",
       "    <tr>\n",
       "      <th>(228.5, 260.0]</th>\n",
       "      <td>210.0</td>\n",
       "      <td>0.097789</td>\n",
       "      <td>0.217821</td>\n",
       "      <td>0.628571</td>\n",
       "      <td>0.904297</td>\n",
       "    </tr>\n",
       "    <tr>\n",
       "      <th>(260.0, 295.0]</th>\n",
       "      <td>210.0</td>\n",
       "      <td>0.094485</td>\n",
       "      <td>0.214959</td>\n",
       "      <td>0.545455</td>\n",
       "      <td>0.906572</td>\n",
       "    </tr>\n",
       "    <tr>\n",
       "      <th>(295.0, 352.0]</th>\n",
       "      <td>209.0</td>\n",
       "      <td>0.094346</td>\n",
       "      <td>0.199767</td>\n",
       "      <td>0.388889</td>\n",
       "      <td>0.903986</td>\n",
       "    </tr>\n",
       "    <tr>\n",
       "      <th>(352.0, 443.7]</th>\n",
       "      <td>208.0</td>\n",
       "      <td>0.128165</td>\n",
       "      <td>0.237435</td>\n",
       "      <td>0.339623</td>\n",
       "      <td>0.832919</td>\n",
       "    </tr>\n",
       "    <tr>\n",
       "      <th>(443.7, inf]</th>\n",
       "      <td>210.0</td>\n",
       "      <td>0.105995</td>\n",
       "      <td>0.215076</td>\n",
       "      <td>0.571429</td>\n",
       "      <td>0.934783</td>\n",
       "    </tr>\n",
       "  </tbody>\n",
       "</table>\n",
       "</div>"
      ],
      "text/plain": [
       "                 count  prob_mean  prob_std        f1       auc\n",
       "text_length_bin                                                \n",
       "(-inf, 116.0]    211.0   0.130000  0.253106  0.500000  0.900544\n",
       "(116.0, 153.0]   217.0   0.118812  0.255341  0.558140  0.969637\n",
       "(153.0, 178.0]   206.0   0.119119  0.251571  0.600000  0.956656\n",
       "(178.0, 205.0]   206.0   0.114248  0.239579  0.536585  0.877992\n",
       "(205.0, 228.5]   207.0   0.101888  0.235287  0.611111  0.821576\n",
       "(228.5, 260.0]   210.0   0.097789  0.217821  0.628571  0.904297\n",
       "(260.0, 295.0]   210.0   0.094485  0.214959  0.545455  0.906572\n",
       "(295.0, 352.0]   209.0   0.094346  0.199767  0.388889  0.903986\n",
       "(352.0, 443.7]   208.0   0.128165  0.237435  0.339623  0.832919\n",
       "(443.7, inf]     210.0   0.105995  0.215076  0.571429  0.934783"
      ]
     },
     "execution_count": 17,
     "metadata": {},
     "output_type": "execute_result"
    }
   ],
   "source": [
    "def calculate_metrics(group):\n",
    "    true_labels = group['target_flag']\n",
    "    predicted_probs = group['prob']\n",
    "    # If 'prob' is a probability, we'll need to convert it to a binary outcome for F1 score\n",
    "    predicted_labels = (predicted_probs >= 0.5).astype(int)  # Using 0.5 as the threshold\n",
    "    f1 = f1_score(true_labels, predicted_labels)\n",
    "    auc = roc_auc_score(true_labels, predicted_probs)\n",
    "    cnt = len(group)\n",
    "    return pd.Series({\"count\": cnt, \"prob_mean\": predicted_probs.mean(), \"prob_std\": predicted_probs.std(), 'f1': f1, 'auc': auc})\n",
    "\n",
    "# Group by 'text_length_bin' and apply the custom metrics function\n",
    "metrics_by_group = dev_df.groupby('text_length_bin').apply(calculate_metrics)\n",
    "\n",
    "metrics_by_group"
   ]
  },
  {
   "cell_type": "code",
   "execution_count": 18,
   "id": "b1758a7a-aef8-429a-b1a1-50c153149519",
   "metadata": {},
   "outputs": [],
   "source": [
    "metrics_by_group.to_csv(\"text_length_bin.csv\")"
   ]
  },
  {
   "cell_type": "code",
   "execution_count": 19,
   "id": "4825b182-44ac-4014-926d-7925b43b679b",
   "metadata": {},
   "outputs": [
    {
     "data": {
      "text/html": [
       "<div>\n",
       "<style scoped>\n",
       "    .dataframe tbody tr th:only-of-type {\n",
       "        vertical-align: middle;\n",
       "    }\n",
       "\n",
       "    .dataframe tbody tr th {\n",
       "        vertical-align: top;\n",
       "    }\n",
       "\n",
       "    .dataframe thead th {\n",
       "        text-align: right;\n",
       "    }\n",
       "</style>\n",
       "<table border=\"1\" class=\"dataframe\">\n",
       "  <thead>\n",
       "    <tr style=\"text-align: right;\">\n",
       "      <th></th>\n",
       "      <th>count</th>\n",
       "      <th>prob_mean</th>\n",
       "      <th>prob_std</th>\n",
       "      <th>f1</th>\n",
       "      <th>auc</th>\n",
       "    </tr>\n",
       "    <tr>\n",
       "      <th>keyword</th>\n",
       "      <th></th>\n",
       "      <th></th>\n",
       "      <th></th>\n",
       "      <th></th>\n",
       "      <th></th>\n",
       "    </tr>\n",
       "  </thead>\n",
       "  <tbody>\n",
       "    <tr>\n",
       "      <th>disabled</th>\n",
       "      <td>194.0</td>\n",
       "      <td>0.075513</td>\n",
       "      <td>0.180691</td>\n",
       "      <td>0.500000</td>\n",
       "      <td>0.846429</td>\n",
       "    </tr>\n",
       "    <tr>\n",
       "      <th>homeless</th>\n",
       "      <td>212.0</td>\n",
       "      <td>0.163230</td>\n",
       "      <td>0.265406</td>\n",
       "      <td>0.482759</td>\n",
       "      <td>0.856604</td>\n",
       "    </tr>\n",
       "    <tr>\n",
       "      <th>hopeless</th>\n",
       "      <td>217.0</td>\n",
       "      <td>0.140150</td>\n",
       "      <td>0.240647</td>\n",
       "      <td>0.520000</td>\n",
       "      <td>0.870721</td>\n",
       "    </tr>\n",
       "    <tr>\n",
       "      <th>immigrant</th>\n",
       "      <td>218.0</td>\n",
       "      <td>0.027244</td>\n",
       "      <td>0.087462</td>\n",
       "      <td>0.250000</td>\n",
       "      <td>0.976980</td>\n",
       "    </tr>\n",
       "    <tr>\n",
       "      <th>in-need</th>\n",
       "      <td>226.0</td>\n",
       "      <td>0.210980</td>\n",
       "      <td>0.340637</td>\n",
       "      <td>0.692308</td>\n",
       "      <td>0.941435</td>\n",
       "    </tr>\n",
       "    <tr>\n",
       "      <th>migrant</th>\n",
       "      <td>207.0</td>\n",
       "      <td>0.022875</td>\n",
       "      <td>0.084269</td>\n",
       "      <td>0.571429</td>\n",
       "      <td>0.918812</td>\n",
       "    </tr>\n",
       "    <tr>\n",
       "      <th>poor-families</th>\n",
       "      <td>190.0</td>\n",
       "      <td>0.186397</td>\n",
       "      <td>0.285618</td>\n",
       "      <td>0.500000</td>\n",
       "      <td>0.749654</td>\n",
       "    </tr>\n",
       "    <tr>\n",
       "      <th>refugee</th>\n",
       "      <td>188.0</td>\n",
       "      <td>0.093759</td>\n",
       "      <td>0.201480</td>\n",
       "      <td>0.428571</td>\n",
       "      <td>0.891429</td>\n",
       "    </tr>\n",
       "    <tr>\n",
       "      <th>vulnerable</th>\n",
       "      <td>209.0</td>\n",
       "      <td>0.114506</td>\n",
       "      <td>0.244517</td>\n",
       "      <td>0.511628</td>\n",
       "      <td>0.935450</td>\n",
       "    </tr>\n",
       "    <tr>\n",
       "      <th>women</th>\n",
       "      <td>233.0</td>\n",
       "      <td>0.070357</td>\n",
       "      <td>0.173183</td>\n",
       "      <td>0.370370</td>\n",
       "      <td>0.927919</td>\n",
       "    </tr>\n",
       "  </tbody>\n",
       "</table>\n",
       "</div>"
      ],
      "text/plain": [
       "               count  prob_mean  prob_std        f1       auc\n",
       "keyword                                                      \n",
       "disabled       194.0   0.075513  0.180691  0.500000  0.846429\n",
       "homeless       212.0   0.163230  0.265406  0.482759  0.856604\n",
       "hopeless       217.0   0.140150  0.240647  0.520000  0.870721\n",
       "immigrant      218.0   0.027244  0.087462  0.250000  0.976980\n",
       "in-need        226.0   0.210980  0.340637  0.692308  0.941435\n",
       "migrant        207.0   0.022875  0.084269  0.571429  0.918812\n",
       "poor-families  190.0   0.186397  0.285618  0.500000  0.749654\n",
       "refugee        188.0   0.093759  0.201480  0.428571  0.891429\n",
       "vulnerable     209.0   0.114506  0.244517  0.511628  0.935450\n",
       "women          233.0   0.070357  0.173183  0.370370  0.927919"
      ]
     },
     "execution_count": 19,
     "metadata": {},
     "output_type": "execute_result"
    }
   ],
   "source": [
    "metrics_by_kw = dev_df.groupby('keyword').apply(calculate_metrics)\n",
    "metrics_by_kw"
   ]
  },
  {
   "cell_type": "code",
   "execution_count": 20,
   "id": "a0e6b343",
   "metadata": {},
   "outputs": [],
   "source": [
    "metrics_by_kw.to_csv(\"kw_bin.csv\")"
   ]
  },
  {
   "cell_type": "code",
   "execution_count": null,
   "id": "a0e6470f",
   "metadata": {},
   "outputs": [],
   "source": []
  }
 ],
 "metadata": {
  "kernelspec": {
   "display_name": "Python 3 (ipykernel)",
   "language": "python",
   "name": "python3"
  },
  "language_info": {
   "codemirror_mode": {
    "name": "ipython",
    "version": 3
   },
   "file_extension": ".py",
   "mimetype": "text/x-python",
   "name": "python",
   "nbconvert_exporter": "python",
   "pygments_lexer": "ipython3",
   "version": "3.10.13"
  }
 },
 "nbformat": 4,
 "nbformat_minor": 5
}
