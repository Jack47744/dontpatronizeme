{
 "cells": [
  {
   "cell_type": "code",
   "execution_count": 4,
   "id": "f0e2c796-f044-4571-ab46-98263ffc2281",
   "metadata": {},
   "outputs": [],
   "source": [
    "!pip install -q simpletransformers gdown"
   ]
  },
  {
   "cell_type": "code",
   "execution_count": 26,
   "id": "538df42b-8fcb-4fef-8175-268b072ef957",
   "metadata": {},
   "outputs": [],
   "source": [
    "from simpletransformers.classification import ClassificationModel\n",
    "import pandas as pd\n",
    "import gdown\n",
    "import zipfile\n",
    "import os"
   ]
  },
  {
   "attachments": {},
   "cell_type": "markdown",
   "id": "72293a33-c798-4125-b4d6-31efcf17e74e",
   "metadata": {},
   "source": [
    "# Load Model from ggdrive"
   ]
  },
  {
   "cell_type": "code",
   "execution_count": 68,
   "id": "87acf18c",
   "metadata": {},
   "outputs": [],
   "source": [
    "def download_model(extract_path = \"models/\"):\n",
    "    file_id = '1WYkuOxW9wg442Gbsw93vh3Vyh9qoWb4r'\n",
    "    destination = 'model.zip'\n",
    "    url = f'https://drive.google.com/uc?id={file_id}'\n",
    "\n",
    "    gdown.download(url, destination, quiet=False)\n",
    "    with zipfile.ZipFile(destination, 'r') as zip_ref:\n",
    "        zip_ref.extractall(extract_path)\n",
    "\n",
    "    extracted_files = os.listdir(extract_path)\n",
    "    print(extracted_files)\n",
    "    os.remove(destination)\n",
    "    return extract_path"
   ]
  },
  {
   "cell_type": "code",
   "execution_count": 69,
   "id": "79ec2bef",
   "metadata": {},
   "outputs": [
    {
     "name": "stderr",
     "output_type": "stream",
     "text": [
      "Downloading...\n",
      "From (original): https://drive.google.com/uc?id=1WYkuOxW9wg442Gbsw93vh3Vyh9qoWb4r\n",
      "From (redirected): https://drive.google.com/uc?id=1WYkuOxW9wg442Gbsw93vh3Vyh9qoWb4r&confirm=t&uuid=cb6cf169-9db2-43ac-a486-0fef0eaf342c\n",
      "To: /Users/metissotangkur/Desktop/advanced_computing/nlp/coursework/dontpatronizeme/code/model.zip\n",
      "100%|██████████| 247M/247M [00:08<00:00, 30.3MB/s] \n"
     ]
    },
    {
     "name": "stdout",
     "output_type": "stream",
     "text": [
      "['.DS_Store', 'model_zip', '__MACOSX', 'model_zip.zip']\n"
     ]
    }
   ],
   "source": [
    "extract_path = \"../models/\"\n",
    "save_path = download_model(extract_path)\n",
    "save_path = os.path.join(save_path, \"model_zip\")\n",
    "best_model = ClassificationModel(\n",
    "    \"distilbert\",\n",
    "    save_path,\n",
    "    use_cuda=False\n",
    ")"
   ]
  },
  {
   "cell_type": "code",
   "execution_count": 66,
   "id": "14a56ad3-b64d-4273-b727-71e78b7fe4a8",
   "metadata": {},
   "outputs": [],
   "source": [
    "def save_line_pred(pred_list, file_name):\n",
    "    with open(file_name, 'w') as file:\n",
    "        for val in pred_list:\n",
    "            file.write(f\"{val}\\n\")"
   ]
  },
  {
   "attachments": {},
   "cell_type": "markdown",
   "id": "facfb5d3-cca6-4fc7-bc54-3151d55a9337",
   "metadata": {},
   "source": [
    "# Predict DEV"
   ]
  },
  {
   "cell_type": "code",
   "execution_count": 51,
   "id": "8987eba3-3b7e-4988-a8b0-55f4630436ca",
   "metadata": {},
   "outputs": [
    {
     "data": {
      "text/html": [
       "<div>\n",
       "<style scoped>\n",
       "    .dataframe tbody tr th:only-of-type {\n",
       "        vertical-align: middle;\n",
       "    }\n",
       "\n",
       "    .dataframe tbody tr th {\n",
       "        vertical-align: top;\n",
       "    }\n",
       "\n",
       "    .dataframe thead th {\n",
       "        text-align: right;\n",
       "    }\n",
       "</style>\n",
       "<table border=\"1\" class=\"dataframe\">\n",
       "  <thead>\n",
       "    <tr style=\"text-align: right;\">\n",
       "      <th></th>\n",
       "      <th>Unnamed: 0</th>\n",
       "      <th>par_id</th>\n",
       "      <th>keyword</th>\n",
       "      <th>country_code</th>\n",
       "      <th>text</th>\n",
       "      <th>target_flag</th>\n",
       "      <th>weights</th>\n",
       "    </tr>\n",
       "  </thead>\n",
       "  <tbody>\n",
       "    <tr>\n",
       "      <th>0</th>\n",
       "      <td>0</td>\n",
       "      <td>107</td>\n",
       "      <td>homeless</td>\n",
       "      <td>ke</td>\n",
       "      <td>His present \" chambers \" may be quite humble ,...</td>\n",
       "      <td>1.0</td>\n",
       "      <td>1</td>\n",
       "    </tr>\n",
       "    <tr>\n",
       "      <th>1</th>\n",
       "      <td>1</td>\n",
       "      <td>149</td>\n",
       "      <td>disabled</td>\n",
       "      <td>us</td>\n",
       "      <td>Krueger recently harnessed that creativity to ...</td>\n",
       "      <td>1.0</td>\n",
       "      <td>1</td>\n",
       "    </tr>\n",
       "    <tr>\n",
       "      <th>2</th>\n",
       "      <td>2</td>\n",
       "      <td>151</td>\n",
       "      <td>poor-families</td>\n",
       "      <td>in</td>\n",
       "      <td>10:41am - Parents of children who died must ge...</td>\n",
       "      <td>1.0</td>\n",
       "      <td>1</td>\n",
       "    </tr>\n",
       "    <tr>\n",
       "      <th>3</th>\n",
       "      <td>3</td>\n",
       "      <td>154</td>\n",
       "      <td>disabled</td>\n",
       "      <td>ng</td>\n",
       "      <td>When some people feel causing problem for some...</td>\n",
       "      <td>1.0</td>\n",
       "      <td>1</td>\n",
       "    </tr>\n",
       "    <tr>\n",
       "      <th>4</th>\n",
       "      <td>4</td>\n",
       "      <td>157</td>\n",
       "      <td>poor-families</td>\n",
       "      <td>ca</td>\n",
       "      <td>We are alarmed to learn of your recently circu...</td>\n",
       "      <td>1.0</td>\n",
       "      <td>1</td>\n",
       "    </tr>\n",
       "  </tbody>\n",
       "</table>\n",
       "</div>"
      ],
      "text/plain": [
       "   Unnamed: 0  par_id        keyword country_code  \\\n",
       "0           0     107       homeless           ke   \n",
       "1           1     149       disabled           us   \n",
       "2           2     151  poor-families           in   \n",
       "3           3     154       disabled           ng   \n",
       "4           4     157  poor-families           ca   \n",
       "\n",
       "                                                text  target_flag  weights  \n",
       "0  His present \" chambers \" may be quite humble ,...          1.0        1  \n",
       "1  Krueger recently harnessed that creativity to ...          1.0        1  \n",
       "2  10:41am - Parents of children who died must ge...          1.0        1  \n",
       "3  When some people feel causing problem for some...          1.0        1  \n",
       "4  We are alarmed to learn of your recently circu...          1.0        1  "
      ]
     },
     "execution_count": 51,
     "metadata": {},
     "output_type": "execute_result"
    }
   ],
   "source": [
    "dev_path = \"../data/dev_df.csv\"\n",
    "\n",
    "cols = [\"text\", \"target_flag\"]\n",
    "\n",
    "dev_df = pd.read_csv(dev_path, sep=\"\\t\")\n",
    "\n",
    "dev_df.head()"
   ]
  },
  {
   "cell_type": "code",
   "execution_count": 52,
   "id": "96cda6d0-877f-4137-a308-44bd80b14d79",
   "metadata": {},
   "outputs": [],
   "source": [
    "dev_df.loc[dev_df[\"text\"].isna(), \"text\"] = \"\""
   ]
  },
  {
   "cell_type": "code",
   "execution_count": 70,
   "id": "e1e858cc-b26e-4d74-bdd3-d53787065b7a",
   "metadata": {},
   "outputs": [
    {
     "name": "stderr",
     "output_type": "stream",
     "text": [
      "/Users/metissotangkur/anaconda3/lib/python3.10/site-packages/simpletransformers/classification/classification_model.py:1453: UserWarning: Dataframe headers not specified. Falling back to using column 0 as text and column 1 as labels.\n",
      "  warnings.warn(\n"
     ]
    },
    {
     "data": {
      "application/vnd.jupyter.widget-view+json": {
       "model_id": "9c3eb6242955483782147ffe9fac4642",
       "version_major": 2,
       "version_minor": 0
      },
      "text/plain": [
       "  0%|          | 0/4 [00:00<?, ?it/s]"
      ]
     },
     "metadata": {},
     "output_type": "display_data"
    },
    {
     "name": "stderr",
     "output_type": "stream",
     "text": [
      "huggingface/tokenizers: The current process just got forked, after parallelism has already been used. Disabling parallelism to avoid deadlocks...\n",
      "To disable this warning, you can either:\n",
      "\t- Avoid using `tokenizers` before the fork if possible\n",
      "\t- Explicitly set the environment variable TOKENIZERS_PARALLELISM=(true | false)\n",
      "huggingface/tokenizers: The current process just got forked, after parallelism has already been used. Disabling parallelism to avoid deadlocks...\n",
      "To disable this warning, you can either:\n",
      "\t- Avoid using `tokenizers` before the fork if possible\n",
      "\t- Explicitly set the environment variable TOKENIZERS_PARALLELISM=(true | false)\n",
      "huggingface/tokenizers: The current process just got forked, after parallelism has already been used. Disabling parallelism to avoid deadlocks...\n",
      "To disable this warning, you can either:\n",
      "\t- Avoid using `tokenizers` before the fork if possible\n",
      "\t- Explicitly set the environment variable TOKENIZERS_PARALLELISM=(true | false)\n",
      "huggingface/tokenizers: The current process just got forked, after parallelism has already been used. Disabling parallelism to avoid deadlocks...\n",
      "To disable this warning, you can either:\n",
      "\t- Avoid using `tokenizers` before the fork if possible\n",
      "\t- Explicitly set the environment variable TOKENIZERS_PARALLELISM=(true | false)\n",
      "huggingface/tokenizers: The current process just got forked, after parallelism has already been used. Disabling parallelism to avoid deadlocks...\n",
      "To disable this warning, you can either:\n",
      "\t- Avoid using `tokenizers` before the fork if possible\n",
      "\t- Explicitly set the environment variable TOKENIZERS_PARALLELISM=(true | false)\n"
     ]
    },
    {
     "data": {
      "application/vnd.jupyter.widget-view+json": {
       "model_id": "b9dc7dd1afb54e63b0748c587bfa17f3",
       "version_major": 2,
       "version_minor": 0
      },
      "text/plain": [
       "Running Evaluation:   0%|          | 0/21 [00:00<?, ?it/s]"
      ]
     },
     "metadata": {},
     "output_type": "display_data"
    }
   ],
   "source": [
    "dev_result, dev_model_outputs, dev_wrong_predictions = best_model.eval_model(dev_df[cols])"
   ]
  },
  {
   "cell_type": "code",
   "execution_count": 71,
   "id": "16487ca3-8e35-4f5d-87eb-fa1726e32298",
   "metadata": {},
   "outputs": [
    {
     "data": {
      "text/plain": [
       "{'mcc': 0.4717101152985508,\n",
       " 'accuracy': 0.9097421203438395,\n",
       " 'f1_score': 0.5215189873417722,\n",
       " 'tp': 103,\n",
       " 'tn': 1802,\n",
       " 'fp': 93,\n",
       " 'fn': 96,\n",
       " 'auroc': 0.898357221463518,\n",
       " 'auprc': 0.5599527964727997,\n",
       " 'eval_loss': 0.21991355468829474}"
      ]
     },
     "execution_count": 71,
     "metadata": {},
     "output_type": "execute_result"
    }
   ],
   "source": [
    "dev_result"
   ]
  },
  {
   "cell_type": "code",
   "execution_count": 55,
   "id": "090d8cac-fb81-4887-9ee8-c5d615bf6e6e",
   "metadata": {},
   "outputs": [
    {
     "data": {
      "application/vnd.jupyter.widget-view+json": {
       "model_id": "b09b3e18374246f59bbd25af05fa292b",
       "version_major": 2,
       "version_minor": 0
      },
      "text/plain": [
       "  0%|          | 0/4 [00:00<?, ?it/s]"
      ]
     },
     "metadata": {},
     "output_type": "display_data"
    },
    {
     "name": "stderr",
     "output_type": "stream",
     "text": [
      "huggingface/tokenizers: The current process just got forked, after parallelism has already been used. Disabling parallelism to avoid deadlocks...\n",
      "To disable this warning, you can either:\n",
      "\t- Avoid using `tokenizers` before the fork if possible\n",
      "\t- Explicitly set the environment variable TOKENIZERS_PARALLELISM=(true | false)\n",
      "huggingface/tokenizers: The current process just got forked, after parallelism has already been used. Disabling parallelism to avoid deadlocks...\n",
      "To disable this warning, you can either:\n",
      "\t- Avoid using `tokenizers` before the fork if possible\n",
      "\t- Explicitly set the environment variable TOKENIZERS_PARALLELISM=(true | false)\n",
      "huggingface/tokenizers: The current process just got forked, after parallelism has already been used. Disabling parallelism to avoid deadlocks...\n",
      "To disable this warning, you can either:\n",
      "\t- Avoid using `tokenizers` before the fork if possible\n",
      "\t- Explicitly set the environment variable TOKENIZERS_PARALLELISM=(true | false)\n",
      "huggingface/tokenizers: The current process just got forked, after parallelism has already been used. Disabling parallelism to avoid deadlocks...\n",
      "To disable this warning, you can either:\n",
      "\t- Avoid using `tokenizers` before the fork if possible\n",
      "\t- Explicitly set the environment variable TOKENIZERS_PARALLELISM=(true | false)\n",
      "huggingface/tokenizers: The current process just got forked, after parallelism has already been used. Disabling parallelism to avoid deadlocks...\n",
      "To disable this warning, you can either:\n",
      "\t- Avoid using `tokenizers` before the fork if possible\n",
      "\t- Explicitly set the environment variable TOKENIZERS_PARALLELISM=(true | false)\n"
     ]
    },
    {
     "data": {
      "application/vnd.jupyter.widget-view+json": {
       "model_id": "3101e3920c634cd5a5840da3d5928eb6",
       "version_major": 2,
       "version_minor": 0
      },
      "text/plain": [
       "  0%|          | 0/21 [00:00<?, ?it/s]"
      ]
     },
     "metadata": {},
     "output_type": "display_data"
    }
   ],
   "source": [
    "dev_text_list = dev_df['text'].tolist()\n",
    "\n",
    "dev_pred, dev_raw_outputs = best_model.predict(dev_text_list)"
   ]
  },
  {
   "cell_type": "code",
   "execution_count": 56,
   "id": "04f391f9-ad67-4942-91e4-ad427eb0541d",
   "metadata": {},
   "outputs": [],
   "source": [
    "save_line_pred(dev_pred, \"../dev.txt\")"
   ]
  },
  {
   "attachments": {},
   "cell_type": "markdown",
   "id": "0c41ff0c-0352-426d-b0ff-ba033058768c",
   "metadata": {},
   "source": [
    "# Predict Test"
   ]
  },
  {
   "cell_type": "code",
   "execution_count": 57,
   "id": "aaf7a333-c3ce-4c92-99de-7834bb65115a",
   "metadata": {},
   "outputs": [
    {
     "data": {
      "text/html": [
       "<div>\n",
       "<style scoped>\n",
       "    .dataframe tbody tr th:only-of-type {\n",
       "        vertical-align: middle;\n",
       "    }\n",
       "\n",
       "    .dataframe tbody tr th {\n",
       "        vertical-align: top;\n",
       "    }\n",
       "\n",
       "    .dataframe thead th {\n",
       "        text-align: right;\n",
       "    }\n",
       "</style>\n",
       "<table border=\"1\" class=\"dataframe\">\n",
       "  <thead>\n",
       "    <tr style=\"text-align: right;\">\n",
       "      <th></th>\n",
       "      <th>idx</th>\n",
       "      <th>_id</th>\n",
       "      <th>keyword</th>\n",
       "      <th>country_code</th>\n",
       "      <th>text</th>\n",
       "    </tr>\n",
       "  </thead>\n",
       "  <tbody>\n",
       "    <tr>\n",
       "      <th>0</th>\n",
       "      <td>t_0</td>\n",
       "      <td>@@7258997</td>\n",
       "      <td>vulnerable</td>\n",
       "      <td>us</td>\n",
       "      <td>In the meantime , conservatives are working to...</td>\n",
       "    </tr>\n",
       "    <tr>\n",
       "      <th>1</th>\n",
       "      <td>t_1</td>\n",
       "      <td>@@16397324</td>\n",
       "      <td>women</td>\n",
       "      <td>pk</td>\n",
       "      <td>In most poor households with no education chil...</td>\n",
       "    </tr>\n",
       "    <tr>\n",
       "      <th>2</th>\n",
       "      <td>t_2</td>\n",
       "      <td>@@16257812</td>\n",
       "      <td>migrant</td>\n",
       "      <td>ca</td>\n",
       "      <td>The real question is not whether immigration i...</td>\n",
       "    </tr>\n",
       "    <tr>\n",
       "      <th>3</th>\n",
       "      <td>t_3</td>\n",
       "      <td>@@3509652</td>\n",
       "      <td>migrant</td>\n",
       "      <td>gb</td>\n",
       "      <td>In total , the country 's immigrant population...</td>\n",
       "    </tr>\n",
       "    <tr>\n",
       "      <th>4</th>\n",
       "      <td>t_4</td>\n",
       "      <td>@@477506</td>\n",
       "      <td>vulnerable</td>\n",
       "      <td>ca</td>\n",
       "      <td>Members of the church , which is part of Ken C...</td>\n",
       "    </tr>\n",
       "  </tbody>\n",
       "</table>\n",
       "</div>"
      ],
      "text/plain": [
       "   idx         _id     keyword country_code  \\\n",
       "0  t_0   @@7258997  vulnerable           us   \n",
       "1  t_1  @@16397324       women           pk   \n",
       "2  t_2  @@16257812     migrant           ca   \n",
       "3  t_3   @@3509652     migrant           gb   \n",
       "4  t_4    @@477506  vulnerable           ca   \n",
       "\n",
       "                                                text  \n",
       "0  In the meantime , conservatives are working to...  \n",
       "1  In most poor households with no education chil...  \n",
       "2  The real question is not whether immigration i...  \n",
       "3  In total , the country 's immigrant population...  \n",
       "4  Members of the church , which is part of Ken C...  "
      ]
     },
     "execution_count": 57,
     "metadata": {},
     "output_type": "execute_result"
    }
   ],
   "source": [
    "url = \"https://raw.githubusercontent.com/Perez-AlmendrosC/dontpatronizeme/master/semeval-2022/TEST/task4_test.tsv\"\n",
    "\n",
    "test_df = pd.read_csv(url, sep='\\t', names=[\"idx\", \"_id\", \"keyword\", \"country_code\", \"text\"])\n",
    "test_df.head()"
   ]
  },
  {
   "cell_type": "code",
   "execution_count": 58,
   "id": "ac71edeb-7054-48de-9049-5ef8702c73d2",
   "metadata": {},
   "outputs": [
    {
     "data": {
      "application/vnd.jupyter.widget-view+json": {
       "model_id": "d5870ed0f38a474f9872b95841443893",
       "version_major": 2,
       "version_minor": 0
      },
      "text/plain": [
       "  0%|          | 0/7 [00:00<?, ?it/s]"
      ]
     },
     "metadata": {},
     "output_type": "display_data"
    },
    {
     "name": "stderr",
     "output_type": "stream",
     "text": [
      "huggingface/tokenizers: The current process just got forked, after parallelism has already been used. Disabling parallelism to avoid deadlocks...\n",
      "To disable this warning, you can either:\n",
      "\t- Avoid using `tokenizers` before the fork if possible\n",
      "\t- Explicitly set the environment variable TOKENIZERS_PARALLELISM=(true | false)\n",
      "huggingface/tokenizers: The current process just got forked, after parallelism has already been used. Disabling parallelism to avoid deadlocks...\n",
      "To disable this warning, you can either:\n",
      "\t- Avoid using `tokenizers` before the fork if possible\n",
      "\t- Explicitly set the environment variable TOKENIZERS_PARALLELISM=(true | false)\n",
      "huggingface/tokenizers: The current process just got forked, after parallelism has already been used. Disabling parallelism to avoid deadlocks...\n",
      "To disable this warning, you can either:\n",
      "\t- Avoid using `tokenizers` before the fork if possible\n",
      "\t- Explicitly set the environment variable TOKENIZERS_PARALLELISM=(true | false)\n",
      "huggingface/tokenizers: The current process just got forked, after parallelism has already been used. Disabling parallelism to avoid deadlocks...\n",
      "To disable this warning, you can either:\n",
      "\t- Avoid using `tokenizers` before the fork if possible\n",
      "\t- Explicitly set the environment variable TOKENIZERS_PARALLELISM=(true | false)\n",
      "huggingface/tokenizers: The current process just got forked, after parallelism has already been used. Disabling parallelism to avoid deadlocks...\n",
      "To disable this warning, you can either:\n",
      "\t- Avoid using `tokenizers` before the fork if possible\n",
      "\t- Explicitly set the environment variable TOKENIZERS_PARALLELISM=(true | false)\n",
      "huggingface/tokenizers: The current process just got forked, after parallelism has already been used. Disabling parallelism to avoid deadlocks...\n",
      "To disable this warning, you can either:\n",
      "\t- Avoid using `tokenizers` before the fork if possible\n",
      "\t- Explicitly set the environment variable TOKENIZERS_PARALLELISM=(true | false)\n"
     ]
    },
    {
     "data": {
      "application/vnd.jupyter.widget-view+json": {
       "model_id": "b840a9cefc9949cabbdf6b2265d9d4b4",
       "version_major": 2,
       "version_minor": 0
      },
      "text/plain": [
       "  0%|          | 0/39 [00:00<?, ?it/s]"
      ]
     },
     "metadata": {},
     "output_type": "display_data"
    }
   ],
   "source": [
    "test_pred, test_raw_outputs = best_model.predict(test_df[\"text\"].tolist())"
   ]
  },
  {
   "cell_type": "code",
   "execution_count": 59,
   "id": "ab7318f1-9a77-4df8-9d63-a61816b40e59",
   "metadata": {},
   "outputs": [],
   "source": [
    "save_line_pred(test_pred, \"../test.txt\")"
   ]
  },
  {
   "cell_type": "code",
   "execution_count": null,
   "id": "afcff725-3e51-4277-a326-139a3c990814",
   "metadata": {},
   "outputs": [],
   "source": []
  }
 ],
 "metadata": {
  "kernelspec": {
   "display_name": "Python 3 (ipykernel)",
   "language": "python",
   "name": "python3"
  },
  "language_info": {
   "codemirror_mode": {
    "name": "ipython",
    "version": 3
   },
   "file_extension": ".py",
   "mimetype": "text/x-python",
   "name": "python",
   "nbconvert_exporter": "python",
   "pygments_lexer": "ipython3",
   "version": "3.10.13"
  }
 },
 "nbformat": 4,
 "nbformat_minor": 5
}
